{
  "nbformat": 4,
  "nbformat_minor": 0,
  "metadata": {
    "colab": {
      "provenance": [],
      "authorship_tag": "ABX9TyN7tW/D4FL28vv42SdY/JIZ",
      "include_colab_link": true
    },
    "kernelspec": {
      "name": "python3",
      "display_name": "Python 3"
    },
    "language_info": {
      "name": "python"
    }
  },
  "cells": [
    {
      "cell_type": "markdown",
      "metadata": {
        "id": "view-in-github",
        "colab_type": "text"
      },
      "source": [
        "<a href=\"https://colab.research.google.com/github/Noshi26/Blessed_Hands/blob/main/WorldWatch_AI.ipynb\" target=\"_parent\"><img src=\"https://colab.research.google.com/assets/colab-badge.svg\" alt=\"Open In Colab\"/></a>"
      ]
    },
    {
      "cell_type": "code",
      "source": [
        "import pandas as pd\n",
        "import numpy as np\n",
        "\n",
        "# --- 1. Load your dataset ---\n",
        "# Make sure 'News_2025.csv' is uploaded to your Colab session files.\n",
        "df = pd.read_csv('News_2025.csv')\n",
        "# Convert the 'publishedAt' column to a proper datetime format\n",
        "df['publishedAt'] = pd.to_datetime(df['publishedAt'])\n",
        "\n",
        "# --- 2. Define the Knowledge Base ---\n",
        "# This dictionary is the core \"brain\" of our AI.\n",
        "# Format: { 'Category': { 'keyword': risk_score, ... } }\n",
        "CATEGORY_KEYWORDS = {\n",
        "    'War': {\n",
        "        'war': 10, 'attack': 9, 'conflict': 8, 'strike': 9, 'military': 7,\n",
        "        'invasion': 10, 'casualties': 8, 'airstrike': 9, 'troops': 6, 'battle': 8\n",
        "    },\n",
        "    'Peace': {\n",
        "        'peace': -5, 'treaty': -7, 'agreement': -6, 'ceasefire': -8, 'truce': -8,\n",
        "        'negotiation': -4, 'diplomacy': -5, 'reconciliation': -6\n",
        "    },\n",
        "    'Economic': {\n",
        "        'economy': 3, 'inflation': 6, 'recession': 7, 'market': 4, 'growth': -2,\n",
        "        'gdp': 3, 'stock': 4, 'interest rate': 6, 'unemployment': 7\n",
        "    },\n",
        "    'Trade': {\n",
        "        'trade': 2, 'tariff': 5, 'sanction': 6, 'export': 1, 'import': 1,\n",
        "        'supply chain': 4, 'deal': -3, 'commerce': 2\n",
        "    },\n",
        "    'Tech': {\n",
        "        'technology': 1, 'ai': 2, 'cybersecurity': 6, 'innovation': -1,\n",
        "        'space': 1, 'semiconductor': 4, 'data': 3\n",
        "    }\n",
        "}\n",
        "\n",
        "print(\"✅ Phase 1 Complete: Data loaded and knowledge base defined.\")"
      ],
      "metadata": {
        "colab": {
          "base_uri": "https://localhost:8080/"
        },
        "id": "3V8PxBnyjL1e",
        "outputId": "764a1fa3-6759-40ea-f42b-c73de160fe0a"
      },
      "execution_count": 16,
      "outputs": [
        {
          "output_type": "stream",
          "name": "stdout",
          "text": [
            "✅ Phase 1 Complete: Data loaded and knowledge base defined.\n"
          ]
        }
      ]
    },
    {
      "cell_type": "code",
      "source": [
        "def get_category_scores(headline, keyword_db):\n",
        "    \"\"\"Calculates category scores based on keywords in a headline.\"\"\"\n",
        "    headline_lower = headline.lower()\n",
        "    scores = {category: 0 for category in keyword_db}\n",
        "\n",
        "    for category, keywords in keyword_db.items():\n",
        "        for keyword, score in keywords.items():\n",
        "            if keyword in headline_lower:\n",
        "                scores[category] += score\n",
        "    return scores\n",
        "\n",
        "def classify_and_score(headline, keyword_db):\n",
        "    \"\"\"Classifies a headline and assigns a final risk score.\"\"\"\n",
        "    scores = get_category_scores(headline, keyword_db)\n",
        "\n",
        "    # If no keywords were found, classify as 'Neutral'\n",
        "    if all(score == 0 for score in scores.values()):\n",
        "        return 'Neutral', 0\n",
        "\n",
        "    # The primary category is the one with the highest absolute score\n",
        "    primary_category = max(scores, key=lambda cat: abs(scores[cat]))\n",
        "\n",
        "    # The final risk score is the sum of all keyword scores found\n",
        "    total_risk_score = sum(scores.values())\n",
        "\n",
        "    return primary_category, total_risk_score\n",
        "\n",
        "print(\"✅ Phase 2 Complete: Scoring and classification functions are ready.\")"
      ],
      "metadata": {
        "colab": {
          "base_uri": "https://localhost:8080/"
        },
        "id": "FqQUZ9Qzjupz",
        "outputId": "346e8cc5-e847-47f9-af46-ba2347b719dd"
      },
      "execution_count": 17,
      "outputs": [
        {
          "output_type": "stream",
          "name": "stdout",
          "text": [
            "✅ Phase 2 Complete: Scoring and classification functions are ready.\n"
          ]
        }
      ]
    },
    {
      "cell_type": "code",
      "source": [
        "# Apply the function to each title in the DataFrame using our initial keyword list\n",
        "results = df['title'].apply(lambda headline: classify_and_score(headline, CATEGORY_KEYWORDS))\n",
        "df[['category', 'risk_score']] = pd.DataFrame(results.tolist(), index=df.index)\n",
        "\n",
        "# Display the results\n",
        "print(\"Initial Classification and Scoring Complete. Here are some examples:\")\n",
        "print(df[['title', 'category', 'risk_score']].head(10))"
      ],
      "metadata": {
        "colab": {
          "base_uri": "https://localhost:8080/"
        },
        "id": "az0yq55gjxj7",
        "outputId": "e8b1852e-ea56-4b3a-c052-56e49b989d20"
      },
      "execution_count": 18,
      "outputs": [
        {
          "output_type": "stream",
          "name": "stdout",
          "text": [
            "Initial Classification and Scoring Complete. Here are some examples:\n",
            "                                               title category  risk_score\n",
            "0  At Chile’s Vera Rubin Observatory, Earth’s Lar...  Neutral           0\n",
            "1  Israel vows to intensify attacks after Iranian...      War           9\n",
            "2  Who is Karen Read? Boston woman acquitted of m...  Neutral           0\n",
            "3  1930s 'Dragon Man' Finally Gives Elusive Ancie...  Neutral           0\n",
            "4  When Earth iced over, early life may have shel...  Neutral           0\n",
            "5  Rwanda and DR Congo agree draft peace deal to ...      War           0\n",
            "6  Nothing Phone (3) has ‘Glyph Matrix’ lights in...  Neutral           0\n",
            "7  How migrating Australian moths find caves hund...  Neutral           0\n",
            "8  2 Chinese spacecraft just met up 22,000 miles ...     Tech           1\n",
            "9  What are the risks of bombing Iran's nuclear s...  Neutral           0\n"
          ]
        }
      ]
    },
    {
      "cell_type": "code",
      "source": [
        "# Install the library for the Genetic Algorithm\n",
        "!pip install pygad\n",
        "\n",
        "# Create a small 'ground truth' dataset to judge performance.\n",
        "# IMPORTANT: You should manually check and correct these to be as accurate as possible!\n",
        "ground_truth = {\n",
        "    0: 'Tech',       # \"At Chile’s Vera Rubin Observatory, Earth’s Largest...\"\n",
        "    1: 'War',        # \"Israel vows to intensify attacks after Iranian...\"\n",
        "    2: 'Neutral',    # \"Who is Karen Read? Boston woman acquitted of m...\"\n",
        "    3: 'Tech',       # \"1930s 'Dragon Man' Finally Gives Elusive Ancie...\"\n",
        "    4: 'Tech',       # \"When Earth iced over, early life may have shel...\"\n",
        "    5: 'Economic',   # Add title for row 5 to help labeling\n",
        "    6: 'War',        # Add title for row 6\n",
        "    7: 'Peace',      # Add title for row 7\n",
        "    8: 'Trade',      # Add title for row 8\n",
        "    9: 'Economic',   # Add title for row 9\n",
        "    10: 'War',\n",
        "    11: 'War',\n",
        "    12: 'Tech',\n",
        "    13: 'Economic',\n",
        "    14: 'Peace'\n",
        "}\n",
        "\n",
        "# Create a small sample DataFrame for the GA to use\n",
        "sample_df = df.iloc[0:15].copy()\n",
        "sample_df['true_category'] = sample_df.index.map(ground_truth)\n",
        "\n",
        "print(\"✅ Phase 3a Complete: Ground truth created and pygad installed.\")\n",
        "print(\"\\nSample data for Genetic Algorithm:\")\n",
        "print(sample_df[['title', 'true_category']])"
      ],
      "metadata": {
        "colab": {
          "base_uri": "https://localhost:8080/"
        },
        "id": "k9pvUHx2j9_1",
        "outputId": "47398938-eb79-48d6-f07d-630717e432ef"
      },
      "execution_count": 19,
      "outputs": [
        {
          "output_type": "stream",
          "name": "stdout",
          "text": [
            "Collecting pygad\n",
            "  Downloading pygad-3.4.0-py3-none-any.whl.metadata (23 kB)\n",
            "Requirement already satisfied: cloudpickle in /usr/local/lib/python3.11/dist-packages (from pygad) (3.1.1)\n",
            "Requirement already satisfied: matplotlib in /usr/local/lib/python3.11/dist-packages (from pygad) (3.10.0)\n",
            "Requirement already satisfied: numpy in /usr/local/lib/python3.11/dist-packages (from pygad) (2.0.2)\n",
            "Requirement already satisfied: contourpy>=1.0.1 in /usr/local/lib/python3.11/dist-packages (from matplotlib->pygad) (1.3.2)\n",
            "Requirement already satisfied: cycler>=0.10 in /usr/local/lib/python3.11/dist-packages (from matplotlib->pygad) (0.12.1)\n",
            "Requirement already satisfied: fonttools>=4.22.0 in /usr/local/lib/python3.11/dist-packages (from matplotlib->pygad) (4.58.4)\n",
            "Requirement already satisfied: kiwisolver>=1.3.1 in /usr/local/lib/python3.11/dist-packages (from matplotlib->pygad) (1.4.8)\n",
            "Requirement already satisfied: packaging>=20.0 in /usr/local/lib/python3.11/dist-packages (from matplotlib->pygad) (24.2)\n",
            "Requirement already satisfied: pillow>=8 in /usr/local/lib/python3.11/dist-packages (from matplotlib->pygad) (11.2.1)\n",
            "Requirement already satisfied: pyparsing>=2.3.1 in /usr/local/lib/python3.11/dist-packages (from matplotlib->pygad) (3.2.3)\n",
            "Requirement already satisfied: python-dateutil>=2.7 in /usr/local/lib/python3.11/dist-packages (from matplotlib->pygad) (2.9.0.post0)\n",
            "Requirement already satisfied: six>=1.5 in /usr/local/lib/python3.11/dist-packages (from python-dateutil>=2.7->matplotlib->pygad) (1.17.0)\n",
            "Downloading pygad-3.4.0-py3-none-any.whl (86 kB)\n",
            "\u001b[?25l   \u001b[90m━━━━━━━━━━━━━━━━━━━━━━━━━━━━━━━━━━━━━━━━\u001b[0m \u001b[32m0.0/86.8 kB\u001b[0m \u001b[31m?\u001b[0m eta \u001b[36m-:--:--\u001b[0m\r\u001b[2K   \u001b[90m━━━━━━━━━━━━━━━━━━━━━━━━━━━━━━━━━━━━━━━━\u001b[0m \u001b[32m86.8/86.8 kB\u001b[0m \u001b[31m5.1 MB/s\u001b[0m eta \u001b[36m0:00:00\u001b[0m\n",
            "\u001b[?25hInstalling collected packages: pygad\n",
            "Successfully installed pygad-3.4.0\n",
            "✅ Phase 3a Complete: Ground truth created and pygad installed.\n",
            "\n",
            "Sample data for Genetic Algorithm:\n",
            "                                                title true_category\n",
            "0   At Chile’s Vera Rubin Observatory, Earth’s Lar...          Tech\n",
            "1   Israel vows to intensify attacks after Iranian...           War\n",
            "2   Who is Karen Read? Boston woman acquitted of m...       Neutral\n",
            "3   1930s 'Dragon Man' Finally Gives Elusive Ancie...          Tech\n",
            "4   When Earth iced over, early life may have shel...          Tech\n",
            "5   Rwanda and DR Congo agree draft peace deal to ...      Economic\n",
            "6   Nothing Phone (3) has ‘Glyph Matrix’ lights in...           War\n",
            "7   How migrating Australian moths find caves hund...         Peace\n",
            "8   2 Chinese spacecraft just met up 22,000 miles ...         Trade\n",
            "9   What are the risks of bombing Iran's nuclear s...      Economic\n",
            "10  I Tried the Future of Smart Glasses at WWDC. T...           War\n",
            "11  'The models were right!' Astronomers locate un...           War\n",
            "12  Firefly announces commercial lunar imagery ser...          Tech\n",
            "13          The island city where Juneteenth was born      Economic\n",
            "14  Israel's airstrikes aim to break foundations o...         Peace\n"
          ]
        }
      ]
    },
    {
      "cell_type": "code",
      "source": [
        "import pygad\n",
        "\n",
        "# Flatten our keyword dictionary into a single list of scores for the GA to optimize\n",
        "initial_weights = [score for cat_kw in CATEGORY_KEYWORDS.values() for score in cat_kw.values()]\n",
        "\n",
        "# 1. Define the Fitness Function: This is how we score each potential solution (set of weights)\n",
        "def fitness_func(ga_instance, solution, solution_idx):\n",
        "    # Rebuild the keyword DB with the new weights from the GA \"solution\"\n",
        "    temp_keywords = {}\n",
        "    i = 0\n",
        "    for category, keywords in CATEGORY_KEYWORDS.items():\n",
        "        temp_keywords[category] = {}\n",
        "        for keyword in keywords:\n",
        "            temp_keywords[category][keyword] = solution[i]\n",
        "            i += 1\n",
        "\n",
        "    # Calculate accuracy based on this new set of weights\n",
        "    predictions = sample_df['title'].apply(lambda h: classify_and_score(h, temp_keywords)[0])\n",
        "    correct_predictions = (predictions == sample_df['true_category']).sum()\n",
        "\n",
        "    accuracy = correct_predictions / len(sample_df)\n",
        "    return accuracy\n",
        "\n",
        "# 2. Configure and Run the Genetic Algorithm\n",
        "ga_instance = pygad.GA(num_generations=100,\n",
        "                       num_parents_mating=7,\n",
        "                       fitness_func=fitness_func,\n",
        "                       sol_per_pop=20,\n",
        "                       num_genes=len(initial_weights),\n",
        "                       init_range_low=-15.0,\n",
        "                       init_range_high=15.0,\n",
        "                       parent_selection_type=\"sss\",\n",
        "                       keep_parents=2,\n",
        "                       crossover_type=\"single_point\",\n",
        "                       mutation_type=\"random\",\n",
        "                       mutation_percent_genes=10)\n",
        "\n",
        "print(\"\\nRunning Genetic Algorithm to optimize keyword weights...\")\n",
        "ga_instance.run()\n",
        "print(\"GA Finished.\")\n",
        "\n",
        "# 3. Get the Best Solution and Update our Knowledge Base\n",
        "best_solution, best_solution_fitness, best_solution_idx = ga_instance.best_solution()\n",
        "print(f\"✅ Phase 3b Complete: Best accuracy achieved on sample data: {best_solution_fitness:.2%}\")\n",
        "\n",
        "# Update our main keyword dictionary with the GA's winning weights\n",
        "i = 0\n",
        "for category in CATEGORY_KEYWORDS:\n",
        "    for keyword in CATEGORY_KEYWORDS[category]:\n",
        "        CATEGORY_KEYWORDS[category][keyword] = best_solution[i]\n",
        "        i += 1\n",
        "\n",
        "print(\"\\nKnowledge base has been updated with optimized weights.\")"
      ],
      "metadata": {
        "colab": {
          "base_uri": "https://localhost:8080/"
        },
        "id": "YT1UbohvklTL",
        "outputId": "eae06a6e-15a3-4c26-8c26-66d8be645dac"
      },
      "execution_count": 20,
      "outputs": [
        {
          "output_type": "stream",
          "name": "stdout",
          "text": [
            "\n",
            "Running Genetic Algorithm to optimize keyword weights...\n",
            "GA Finished.\n",
            "✅ Phase 3b Complete: Best accuracy achieved on sample data: 13.33%\n",
            "\n",
            "Knowledge base has been updated with optimized weights.\n"
          ]
        }
      ]
    },
    {
      "cell_type": "code",
      "source": [
        "import time\n",
        "from IPython.display import display, clear_output\n",
        "\n",
        "# Re-run the classification on the whole dataset with our NEW, OPTIMIZED weights\n",
        "print(\"Re-classifying all articles with optimized knowledge base...\")\n",
        "optimized_results = df['title'].apply(lambda h: classify_and_score(h, CATEGORY_KEYWORDS))\n",
        "df[['category', 'risk_score']] = pd.DataFrame(optimized_results.tolist(), index=df.index)\n",
        "print(\"Classification complete.\")\n",
        "time.sleep(2)\n",
        "\n",
        "\n",
        "# --- Simulation Loop ---\n",
        "print(\"\\n--- WorldWatch AI: Real-Time Geopolitical Feed Simulation ---\")\n",
        "time.sleep(3)\n",
        "\n",
        "# Loop through each article in the dataset\n",
        "for index, article in df.iterrows():\n",
        "    clear_output(wait=True) # Clears the output for a clean, updating display\n",
        "\n",
        "    # Determine color based on category and risk for display\n",
        "    risk_level = \"NEUTRAL\"\n",
        "    if article['category'] == 'War': risk_level = \"CRITICAL\"\n",
        "    elif article['category'] == 'Peace': risk_level = \"STABLE\"\n",
        "    elif article['risk_score'] > 5: risk_level = \"HIGH\"\n",
        "    elif article['risk_score'] > 0: risk_level = \"MODERATE\"\n",
        "\n",
        "    # Display the analysis for the \"new\" article\n",
        "    print(\"--- WorldWatch AI: Real-Time Geopolitical Feed Simulation ---\")\n",
        "    print(f\"INCOMING [Article {index + 1}/{len(df)}]\")\n",
        "    print(\"----------------------------------------------------------\")\n",
        "    print(f\"HEADLINE: {article['title']}\")\n",
        "    print(f\"SOURCE: {article['source']}\")\n",
        "    print(\"----------------------------------------------------------\")\n",
        "    print(f\"ANALYSIS -> Category: {article['category'].upper()} | Risk Level: {risk_level} | Score: {article['risk_score']:.1f}\")\n",
        "    print(\"----------------------------------------------------------\\n\")\n",
        "\n",
        "    # Pause to simulate a real-time feed\n",
        "    time.sleep(1.5)\n",
        "\n",
        "print(\"--- End of Simulation ---\")"
      ],
      "metadata": {
        "colab": {
          "base_uri": "https://localhost:8080/"
        },
        "id": "Ipg1e_w6kyJc",
        "outputId": "6e827d03-7311-4627-db3a-ed4a401aedca"
      },
      "execution_count": null,
      "outputs": [
        {
          "output_type": "stream",
          "name": "stdout",
          "text": [
            "--- WorldWatch AI: Real-Time Geopolitical Feed Simulation ---\n",
            "INCOMING [Article 150/195]\n",
            "----------------------------------------------------------\n",
            "HEADLINE: Google’s AI Mode can now have back-and-forth voice conversations\n",
            "SOURCE: TechCrunch\n",
            "----------------------------------------------------------\n",
            "ANALYSIS -> Category: TECH | Risk Level: NEUTRAL | Score: -0.1\n",
            "----------------------------------------------------------\n",
            "\n"
          ]
        }
      ]
    }
  ]
}